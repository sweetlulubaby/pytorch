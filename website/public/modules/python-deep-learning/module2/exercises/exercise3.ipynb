{
  "cells": [
    {
      "cell_type": "markdown",
      "metadata": {
        "id": "OCfLx-dd9BuI"
      },
      "source": [
        "# Module 2 - Exercise 3: Gradient Flow\n",
        "\n",
        "## Learning Objectives\n",
        "- Understand and observe vanishing gradient problems with sigmoid and tanh activations\n",
        "- Experience exploding gradient problems with poor weight initialization\n",
        "- Implement gradient clipping to handle exploding gradients\n",
        "- Learn how ReLU activations help maintain gradient flow\n",
        "- Understand how batch normalization stabilizes training\n",
        "- Analyze gradient statistics to diagnose training issues"
      ]
    },
    {
      "cell_type": "markdown",
      "metadata": {
        "id": "-B7B9TYr9BuK"
      },
      "source": [
        "## Setup and Imports"
      ]
    },
    {
      "cell_type": "code",
      "execution_count": 1,
      "metadata": {
        "id": "u-9bDfff9BuK"
      },
      "outputs": [],
      "source": [
        "# Clone the test repository\n",
        "!git clone https://github.com/racousin/data_science_practice.git /tmp/tests 2>/dev/null || true\n",
        "\n",
        "# Import required modules\n",
        "import sys\n",
        "sys.path.append('/tmp/tests/tests/python_deep_learning')\n",
        "\n",
        "# Import the improved test utilities\n",
        "from test_utils import NotebookTestRunner, create_inline_test\n",
        "from module2.test_exercise3 import Exercise3Validator, EXERCISE3_SECTIONS\n",
        "\n",
        "# Create test runner and validator\n",
        "test_runner = NotebookTestRunner(\"module2\", 3)\n",
        "validator = Exercise3Validator()"
      ]
    },
    {
      "cell_type": "code",
      "execution_count": 2,
      "metadata": {
        "id": "3bj6xsoE9BuL",
        "outputId": "b447f0b4-4be2-45fc-b140-9fd147926999",
        "colab": {
          "base_uri": "https://localhost:8080/"
        }
      },
      "outputs": [
        {
          "output_type": "stream",
          "name": "stdout",
          "text": [
            "Using device: cuda\n"
          ]
        }
      ],
      "source": [
        "import torch\n",
        "import torch.nn as nn\n",
        "import torch.nn.functional as F\n",
        "import numpy as np\n",
        "import matplotlib.pyplot as plt\n",
        "from typing import List, Dict\n",
        "\n",
        "# Set random seed for reproducibility\n",
        "torch.manual_seed(42)\n",
        "np.random.seed(42)\n",
        "\n",
        "# Check CUDA availability\n",
        "device = torch.device('cuda' if torch.cuda.is_available() else 'cpu')\n",
        "print(f\"Using device: {device}\")"
      ]
    },
    {
      "cell_type": "markdown",
      "metadata": {
        "id": "ZTiXnTz79BuM"
      },
      "source": [
        "## Section 1: Vanishing Gradients with Sigmoid\n",
        "\n",
        "Let's first observe the vanishing gradient problem using sigmoid activations. The sigmoid function squashes inputs to (0, 1) and its derivative has a maximum value of 0.25, causing gradients to shrink as they propagate backward through deep networks."
      ]
    },
    {
      "cell_type": "code",
      "execution_count": 4,
      "metadata": {
        "id": "q8GVBvv19BuM",
        "outputId": "882db032-e308-471f-b6c0-e81a9c9b8c27",
        "colab": {
          "base_uri": "https://localhost:8080/"
        }
      },
      "outputs": [
        {
          "output_type": "stream",
          "name": "stdout",
          "text": [
            "Deep Sigmoid Network:\n",
            "Sequential(\n",
            "  (0): Linear(in_features=10, out_features=20, bias=True)\n",
            "  (1): Sigmoid()\n",
            "  (2): Linear(in_features=20, out_features=20, bias=True)\n",
            "  (3): Sigmoid()\n",
            "  (4): Linear(in_features=20, out_features=20, bias=True)\n",
            "  (5): Sigmoid()\n",
            "  (6): Linear(in_features=20, out_features=20, bias=True)\n",
            "  (7): Sigmoid()\n",
            "  (8): Linear(in_features=20, out_features=1, bias=True)\n",
            "  (9): Sigmoid()\n",
            ")\n"
          ]
        }
      ],
      "source": [
        "# TODO: Create a deep network with sigmoid activations\n",
        "# The network should have at least 10 layers (5 Linear + 5 Sigmoid)\n",
        "# Input: 10 features, Hidden layers: 20 units each, Output: 1\n",
        "deep_sigmoid_network = nn.Sequential(\n",
        "    nn.Linear(10, 20),\n",
        "    nn.Sigmoid(),\n",
        "    nn.Linear(20, 20),\n",
        "    nn.Sigmoid(),\n",
        "    nn.Linear(20, 20),\n",
        "    nn.Sigmoid(),\n",
        "    nn.Linear(20, 20),\n",
        "    nn.Sigmoid(),\n",
        "    nn.Linear(20, 1),\n",
        "    nn.Sigmoid(),\n",
        "\n",
        ")\n",
        "\n",
        "# Display network architecture\n",
        "if deep_sigmoid_network:\n",
        "    print(\"Deep Sigmoid Network:\")\n",
        "    print(deep_sigmoid_network)"
      ]
    },
    {
      "cell_type": "code",
      "execution_count": 10,
      "metadata": {
        "id": "3Jxyt_Vo9BuM",
        "outputId": "0f2b1175-5792-4a0f-8e5a-20de35841c30",
        "colab": {
          "base_uri": "https://localhost:8080/",
          "height": 446
        }
      },
      "outputs": [
        {
          "output_type": "display_data",
          "data": {
            "text/plain": [
              "<Figure size 1000x400 with 1 Axes>"
            ],
            "image/png": "[encoded data removed]"
          },
          "metadata": {}
        },
        {
          "output_type": "stream",
          "name": "stdout",
          "text": [
            "First layer gradient norm: 0.000038\n",
            "Last layer gradient norm: 0.575367\n"
          ]
        }
      ],
      "source": [
        "# TODO: Compute gradients through the sigmoid network\n",
        "# 1. Create a random input tensor (batch_size=32, features=10)\n",
        "# 2. Forward pass through the network\n",
        "# 3. Compute mean of output\n",
        "# 4. Backward pass\n",
        "# 5. Collect gradients from each Linear layer's weight.grad\n",
        "x = torch.randn(32, 10).to(device)\n",
        "deep_sigmoid_network_instance = deep_sigmoid_network.to(device)\n",
        "output = deep_sigmoid_network_instance(x)\n",
        "mean_output = output.mean()\n",
        "mean_output.backward()\n",
        "sigmoid_gradients = [param.grad for name, param in deep_sigmoid_network.named_parameters() if 'weight' in name]\n",
        "\n",
        "# Visualize gradient magnitudes\n",
        "if sigmoid_gradients:\n",
        "    grad_norms = [torch.norm(g).item() for g in sigmoid_gradients]\n",
        "    plt.figure(figsize=(10, 4))\n",
        "    plt.bar(range(len(grad_norms)), grad_norms)\n",
        "    plt.xlabel('Layer Index')\n",
        "    plt.ylabel('Gradient Norm')\n",
        "    plt.title('Gradient Norms in Deep Sigmoid Network')\n",
        "    plt.yscale('log')\n",
        "    plt.show()\n",
        "    print(f\"First layer gradient norm: {grad_norms[0]:.6f}\")\n",
        "    print(f\"Last layer gradient norm: {grad_norms[-1]:.6f}\")"
      ]
    },
    {
      "cell_type": "code",
      "execution_count": 11,
      "metadata": {
        "id": "TEd6TTcs9BuM",
        "outputId": "a6e41782-95ac-49d8-c2bd-c04284c77232",
        "colab": {
          "base_uri": "https://localhost:8080/"
        }
      },
      "outputs": [
        {
          "output_type": "stream",
          "name": "stdout",
          "text": [
            "Vanishing gradient ratio: 15153.52971386\n",
            "This means the gradient shrinks by a factor of 0.00!\n"
          ]
        }
      ],
      "source": [
        "# TODO: Calculate the vanishing gradient ratio\n",
        "# Ratio = last_layer_gradient_norm / first_layer_gradient_norm\n",
        "vanishing_ratio = grad_norms[-1] / grad_norms[0]\n",
        "\n",
        "if vanishing_ratio is not None:\n",
        "    print(f\"Vanishing gradient ratio: {vanishing_ratio:.8f}\")\n",
        "    print(f\"This means the gradient shrinks by a factor of {1/vanishing_ratio:.2f}!\")"
      ]
    },
    {
      "cell_type": "code",
      "execution_count": null,
      "metadata": {
        "id": "BAIbegPq9BuM"
      },
      "outputs": [],
      "source": [
        "# Test Section 1: Vanishing Gradients with Sigmoid\n",
        "section_tests = [(getattr(validator, name), desc) for name, desc in EXERCISE3_SECTIONS[\"Section 1: Vanishing Gradients with Sigmoid\"]]\n",
        "test_runner.test_section(\"Section 1: Vanishing Gradients with Sigmoid\", validator, section_tests, locals())"
      ]
    },
    {
      "cell_type": "markdown",
      "metadata": {
        "id": "ppfvJwOg9BuN"
      },
      "source": [
        "## Section 2: Vanishing Gradients with Tanh\n",
        "\n",
        "The hyperbolic tangent (tanh) function also suffers from vanishing gradients, though typically less severe than sigmoid. Let's compare."
      ]
    },
    {
      "cell_type": "code",
      "execution_count": 12,
      "metadata": {
        "id": "YBW7xJPQ9BuN",
        "outputId": "f1e262fc-8885-499d-c827-c321008ee244",
        "colab": {
          "base_uri": "https://localhost:8080/"
        }
      },
      "outputs": [
        {
          "output_type": "stream",
          "name": "stdout",
          "text": [
            "Deep Tanh Network:\n",
            "Sequential(\n",
            "  (0): Linear(in_features=10, out_features=20, bias=True)\n",
            "  (1): Tanh()\n",
            "  (2): Linear(in_features=20, out_features=20, bias=True)\n",
            "  (3): Tanh()\n",
            "  (4): Linear(in_features=20, out_features=20, bias=True)\n",
            "  (5): Tanh()\n",
            "  (6): Linear(in_features=20, out_features=20, bias=True)\n",
            "  (7): Tanh()\n",
            "  (8): Linear(in_features=20, out_features=1, bias=True)\n",
            "  (9): Tanh()\n",
            ")\n"
          ]
        }
      ],
      "source": [
        "# TODO: Create a deep network with tanh activations\n",
        "# Similar structure to sigmoid network but with Tanh activations\n",
        "deep_tanh_network = nn.Sequential(\n",
        "    nn.Linear(10, 20),\n",
        "    nn.Tanh(),\n",
        "    nn.Linear(20, 20),\n",
        "    nn.Tanh(),\n",
        "    nn.Linear(20, 20),\n",
        "    nn.Tanh(),\n",
        "    nn.Linear(20, 20),\n",
        "    nn.Tanh(),\n",
        "    nn.Linear(20, 1),\n",
        "    nn.Tanh(),\n",
        ")\n",
        "\n",
        "if deep_tanh_network:\n",
        "    print(\"Deep Tanh Network:\")\n",
        "    print(deep_tanh_network)"
      ]
    },
    {
      "cell_type": "code",
      "execution_count": null,
      "metadata": {
        "id": "tzOUkTnS9BuN"
      },
      "outputs": [],
      "source": [
        "# TODO: Compute gradients through the tanh network\n",
        "# Follow the same process as with sigmoid network\n",
        "tanh_gradients = None\n",
        "\n",
        "# Compare sigmoid vs tanh gradient flow\n",
        "if sigmoid_gradients and tanh_gradients:\n",
        "    sigmoid_norms = [torch.norm(g).item() for g in sigmoid_gradients]\n",
        "    tanh_norms = [torch.norm(g).item() for g in tanh_gradients]\n",
        "\n",
        "    plt.figure(figsize=(10, 4))\n",
        "    x = range(len(sigmoid_norms))\n",
        "    plt.plot(x, sigmoid_norms, 'r-', label='Sigmoid', marker='o')\n",
        "    plt.plot(x, tanh_norms, 'b-', label='Tanh', marker='s')\n",
        "    plt.xlabel('Layer Index')\n",
        "    plt.ylabel('Gradient Norm (log scale)')\n",
        "    plt.title('Gradient Flow: Sigmoid vs Tanh')\n",
        "    plt.yscale('log')\n",
        "    plt.legend()\n",
        "    plt.grid(True, alpha=0.3)\n",
        "    plt.show()"
      ]
    },
    {
      "cell_type": "code",
      "execution_count": null,
      "metadata": {
        "id": "Msg4i8Yz9BuN"
      },
      "outputs": [],
      "source": [
        "# Test Section 2: Vanishing Gradients with Tanh\n",
        "section_tests = [(getattr(validator, name), desc) for name, desc in EXERCISE3_SECTIONS[\"Section 2: Vanishing Gradients with Tanh\"]]\n",
        "test_runner.test_section(\"Section 2: Vanishing Gradients with Tanh\", validator, section_tests, locals())"
      ]
    },
    {
      "cell_type": "markdown",
      "metadata": {
        "id": "aAHQ_UR99BuN"
      },
      "source": [
        "## Section 3: Exploding Gradients\n",
        "\n",
        "Now let's create the opposite problem: exploding gradients. This typically happens with poor weight initialization or unstable network architectures."
      ]
    },
    {
      "cell_type": "code",
      "execution_count": 14,
      "metadata": {
        "id": "EMjWxAcH9BuO",
        "outputId": "de4aad45-6fdf-4bad-e45b-996c3898d100",
        "colab": {
          "base_uri": "https://localhost:8080/"
        }
      },
      "outputs": [
        {
          "output_type": "stream",
          "name": "stdout",
          "text": [
            "Unstable Network (prone to exploding gradients):\n",
            "Layer 1: Weight std = 4.913\n",
            "Layer 2: Weight std = 5.257\n",
            "Layer 3: Weight std = 5.138\n",
            "Layer 4: Weight std = 4.998\n",
            "Layer 5: Weight std = 5.416\n"
          ]
        }
      ],
      "source": [
        "# TODO: Create a network prone to exploding gradients\n",
        "# Use large weight initialization (std=5.0 or multiply weights by 5)\n",
        "# Use Linear layers without activation functions between them\n",
        "unstable_network = nn.Sequential(\n",
        "    nn.Linear(10, 20),\n",
        "    nn.Linear(20, 20),\n",
        "    nn.Linear(20, 20),\n",
        "    nn.Linear(20, 20),\n",
        "    nn.Linear(20, 1),\n",
        ")\n",
        "def init_weights(m):\n",
        "    if isinstance(m, nn.Linear):\n",
        "\n",
        "        nn.init.normal_(m.weight, mean=0.0, std=5.0)\n",
        "\n",
        "        if m.bias is not None:\n",
        "            nn.init.zeros_(m.bias)\n",
        "\n",
        "unstable_network.apply(init_weights)\n",
        "\n",
        "if unstable_network:\n",
        "    print(\"Unstable Network (prone to exploding gradients):\")\n",
        "    for i, module in enumerate(unstable_network.modules()):\n",
        "        if isinstance(module, nn.Linear):\n",
        "            print(f\"Layer {i}: Weight std = {module.weight.data.std():.3f}\")"
      ]
    },
    {
      "cell_type": "code",
      "execution_count": 21,
      "metadata": {
        "id": "3hjh0ul_9BuO",
        "outputId": "5e3e2aae-d822-4cda-bd72-e382fef888f6",
        "colab": {
          "base_uri": "https://localhost:8080/",
          "height": 518
        }
      },
      "outputs": [
        {
          "output_type": "display_data",
          "data": {
            "text/plain": [
              "<Figure size 1000x400 with 1 Axes>"
            ],
            "image/png": "[encoded data removed]"
          },
          "metadata": {}
        },
        {
          "output_type": "stream",
          "name": "stdout",
          "text": [
            "Gradient norms:\n",
            "Layer 0: 3.49e+05\n",
            "Layer 1: 2.86e+05\n",
            "Layer 2: 3.63e+05\n",
            "Layer 3: 4.15e+05\n",
            "Layer 4: 4.28e+05\n"
          ]
        }
      ],
      "source": [
        "# TODO: Observe exploding gradients\n",
        "# Compute gradients and watch them explode!\n",
        "# You might see NaN or very large values\n",
        "x = torch.randn(32, 10).to(device)\n",
        "unstable_network_instance = unstable_network.to(device)\n",
        "output = unstable_network_instance(x)\n",
        "mean_output = output.mean()\n",
        "mean_output.backward()\n",
        "exploding_gradients = [param.grad for name, param in unstable_network.named_parameters() if 'weight' in name]\n",
        "\n",
        "if exploding_gradients:\n",
        "    grad_norms = [torch.norm(g).item() if not torch.isnan(g).any() else float('nan')\n",
        "                  for g in exploding_gradients]\n",
        "\n",
        "    plt.figure(figsize=(10, 4))\n",
        "    plt.bar(range(len(grad_norms)), grad_norms)\n",
        "    plt.xlabel('Layer Index')\n",
        "    plt.ylabel('Gradient Norm')\n",
        "    plt.title('Exploding Gradients!')\n",
        "    plt.show()\n",
        "\n",
        "    print(\"Gradient norms:\")\n",
        "    for i, norm in enumerate(grad_norms):\n",
        "        print(f\"Layer {i}: {norm:.2e}\")"
      ]
    },
    {
      "cell_type": "code",
      "execution_count": 22,
      "metadata": {
        "id": "dKpdBYWB9BuO",
        "outputId": "5a76b7cc-3102-4120-e915-bf94f12a6625",
        "colab": {
          "base_uri": "https://localhost:8080/",
          "height": 342
        }
      },
      "outputs": [
        {
          "output_type": "error",
          "ename": "TypeError",
          "evalue": "iteration over a 0-d tensor",
          "traceback": [
            "\u001b[0;31m---------------------------------------------------------------------------\u001b[0m",
            "\u001b[0;31mTypeError\u001b[0m                                 Traceback (most recent call last)",
            "\u001b[0;32m/tmp/ipython-input-826693204.py\u001b[0m in \u001b[0;36m<cell line: 0>\u001b[0;34m()\u001b[0m\n\u001b[1;32m      5\u001b[0m \u001b[0;34m\u001b[0m\u001b[0m\n\u001b[1;32m      6\u001b[0m \u001b[0;32mif\u001b[0m \u001b[0mclipped_gradients\u001b[0m\u001b[0;34m:\u001b[0m\u001b[0;34m\u001b[0m\u001b[0;34m\u001b[0m\u001b[0m\n\u001b[0;32m----> 7\u001b[0;31m     \u001b[0mclipped_norms\u001b[0m \u001b[0;34m=\u001b[0m \u001b[0;34m[\u001b[0m\u001b[0mtorch\u001b[0m\u001b[0;34m.\u001b[0m\u001b[0mnorm\u001b[0m\u001b[0;34m(\u001b[0m\u001b[0mg\u001b[0m\u001b[0;34m)\u001b[0m\u001b[0;34m.\u001b[0m\u001b[0mitem\u001b[0m\u001b[0;34m(\u001b[0m\u001b[0;34m)\u001b[0m \u001b[0;32mfor\u001b[0m \u001b[0mg\u001b[0m \u001b[0;32min\u001b[0m \u001b[0mclipped_gradients\u001b[0m\u001b[0;34m]\u001b[0m\u001b[0;34m\u001b[0m\u001b[0;34m\u001b[0m\u001b[0m\n\u001b[0m\u001b[1;32m      8\u001b[0m     \u001b[0mprint\u001b[0m\u001b[0;34m(\u001b[0m\u001b[0;34m\"Clipped gradient norms:\"\u001b[0m\u001b[0;34m)\u001b[0m\u001b[0;34m\u001b[0m\u001b[0;34m\u001b[0m\u001b[0m\n\u001b[1;32m      9\u001b[0m     \u001b[0;32mfor\u001b[0m \u001b[0mi\u001b[0m\u001b[0;34m,\u001b[0m \u001b[0mnorm\u001b[0m \u001b[0;32min\u001b[0m \u001b[0menumerate\u001b[0m\u001b[0;34m(\u001b[0m\u001b[0mclipped_norms\u001b[0m\u001b[0;34m)\u001b[0m\u001b[0;34m:\u001b[0m\u001b[0;34m\u001b[0m\u001b[0;34m\u001b[0m\u001b[0m\n",
            "\u001b[0;32m/usr/local/lib/python3.12/dist-packages/torch/_tensor.py\u001b[0m in \u001b[0;36m__iter__\u001b[0;34m(self)\u001b[0m\n\u001b[1;32m   1184\u001b[0m         \u001b[0;31m# See gh-54457\u001b[0m\u001b[0;34m\u001b[0m\u001b[0;34m\u001b[0m\u001b[0m\n\u001b[1;32m   1185\u001b[0m         \u001b[0;32mif\u001b[0m \u001b[0mself\u001b[0m\u001b[0;34m.\u001b[0m\u001b[0mdim\u001b[0m\u001b[0;34m(\u001b[0m\u001b[0;34m)\u001b[0m \u001b[0;34m==\u001b[0m \u001b[0;36m0\u001b[0m\u001b[0;34m:\u001b[0m\u001b[0;34m\u001b[0m\u001b[0;34m\u001b[0m\u001b[0m\n\u001b[0;32m-> 1186\u001b[0;31m             \u001b[0;32mraise\u001b[0m \u001b[0mTypeError\u001b[0m\u001b[0;34m(\u001b[0m\u001b[0;34m\"iteration over a 0-d tensor\"\u001b[0m\u001b[0;34m)\u001b[0m\u001b[0;34m\u001b[0m\u001b[0;34m\u001b[0m\u001b[0m\n\u001b[0m\u001b[1;32m   1187\u001b[0m         \u001b[0;32mif\u001b[0m \u001b[0mtorch\u001b[0m\u001b[0;34m.\u001b[0m\u001b[0m_C\u001b[0m\u001b[0;34m.\u001b[0m\u001b[0m_get_tracing_state\u001b[0m\u001b[0;34m(\u001b[0m\u001b[0;34m)\u001b[0m\u001b[0;34m:\u001b[0m\u001b[0;34m\u001b[0m\u001b[0;34m\u001b[0m\u001b[0m\n\u001b[1;32m   1188\u001b[0m             warnings.warn(\n",
            "\u001b[0;31mTypeError\u001b[0m: iteration over a 0-d tensor"
          ]
        }
      ],
      "source": [
        "# TODO: Implement gradient clipping\n",
        "# Clip gradients to a maximum norm of 1.0\n",
        "# Use torch.nn.utils.clip_grad_norm_\n",
        "\n",
        "clipped_gradients =\n",
        "\n",
        "if clipped_gradients:\n",
        "    clipped_norms = [torch.norm(g).item() for g in clipped_gradients]\n",
        "    print(\"Clipped gradient norms:\")\n",
        "    for i, norm in enumerate(clipped_norms):\n",
        "        print(f\"Layer {i}: {norm:.4f}\")\n",
        "    print(f\"\\nMax gradient norm after clipping: {max(clipped_norms):.4f}\")"
      ]
    },
    {
      "cell_type": "code",
      "execution_count": null,
      "metadata": {
        "id": "JBBtcfPx9BuO"
      },
      "outputs": [],
      "source": [
        "# Test Section 3: Exploding Gradients\n",
        "section_tests = [(getattr(validator, name), desc) for name, desc in EXERCISE3_SECTIONS[\"Section 3: Exploding Gradients\"]]\n",
        "test_runner.test_section(\"Section 3: Exploding Gradients\", validator, section_tests, locals())"
      ]
    },
    {
      "cell_type": "markdown",
      "metadata": {
        "id": "AZFMsRY39BuO"
      },
      "source": [
        "### Section 4: Solutions - ReLU and Batch Normalization\n",
        "Let's explore two popular solutions to gradient flow problems:\n",
        "\n",
        "ReLU activations: Don't saturate for positive inputs\n",
        "Batch Normalization: Stabilizes gradients by normalizing inputs"
      ]
    },
    {
      "cell_type": "code",
      "execution_count": 23,
      "metadata": {
        "id": "Ebd1yHED9BuO",
        "outputId": "28623fcb-b30e-4b93-864a-586236f8255b",
        "colab": {
          "base_uri": "https://localhost:8080/"
        }
      },
      "outputs": [
        {
          "output_type": "stream",
          "name": "stdout",
          "text": [
            "ReLU Network:\n",
            "Sequential(\n",
            "  (0): Linear(in_features=10, out_features=20, bias=True)\n",
            "  (1): ReLU()\n",
            "  (2): Linear(in_features=20, out_features=20, bias=True)\n",
            "  (3): ReLU()\n",
            "  (4): Linear(in_features=20, out_features=20, bias=True)\n",
            "  (5): ReLU()\n",
            "  (6): Linear(in_features=20, out_features=20, bias=True)\n",
            "  (7): ReLU()\n",
            "  (8): Linear(in_features=20, out_features=1, bias=True)\n",
            "  (9): ReLU()\n",
            ")\n"
          ]
        }
      ],
      "source": [
        "# TODO: Create a deep network with ReLU activations\n",
        "# Similar structure but use ReLU instead of sigmoid/tanh\n",
        "relu_network = nn.Sequential(\n",
        "    nn.Linear(10, 20),\n",
        "    nn.ReLU(),\n",
        "    nn.Linear(20, 20),\n",
        "    nn.ReLU(),\n",
        "    nn.Linear(20, 20),\n",
        "    nn.ReLU(),\n",
        "    nn.Linear(20,20),\n",
        "    nn.ReLU(),\n",
        "    nn.Linear(20, 1),\n",
        "    nn.ReLU()\n",
        ")\n",
        "\n",
        "if relu_network:\n",
        "    print(\"ReLU Network:\")\n",
        "    print(relu_network)"
      ]
    },
    {
      "cell_type": "code",
      "execution_count": null,
      "metadata": {
        "scrolled": true,
        "id": "KHLMmaGA9BuO",
        "outputId": "9fe539fe-32ff-486e-ecdc-c473893ee8f0"
      },
      "outputs": [
        {
          "ename": "NameError",
          "evalue": "name 'sigmoid_gradients' is not defined",
          "output_type": "error",
          "traceback": [
            "\u001b[31m---------------------------------------------------------------------------\u001b[39m",
            "\u001b[31mNameError\u001b[39m                                 Traceback (most recent call last)",
            "\u001b[36mCell\u001b[39m\u001b[36m \u001b[39m\u001b[32mIn[2]\u001b[39m\u001b[32m, line 5\u001b[39m\n\u001b[32m      2\u001b[39m relu_gradients = \u001b[38;5;28;01mNone\u001b[39;00m\n\u001b[32m      4\u001b[39m \u001b[38;5;66;03m# Compare all activation functions\u001b[39;00m\n\u001b[32m----> \u001b[39m\u001b[32m5\u001b[39m \u001b[38;5;28;01mif\u001b[39;00m \u001b[43msigmoid_gradients\u001b[49m \u001b[38;5;129;01mand\u001b[39;00m tanh_gradients \u001b[38;5;129;01mand\u001b[39;00m relu_gradients:\n\u001b[32m      6\u001b[39m     sigmoid_norms = [torch.norm(g).item() \u001b[38;5;28;01mfor\u001b[39;00m g \u001b[38;5;129;01min\u001b[39;00m sigmoid_gradients]\n\u001b[32m      7\u001b[39m     tanh_norms = [torch.norm(g).item() \u001b[38;5;28;01mfor\u001b[39;00m g \u001b[38;5;129;01min\u001b[39;00m tanh_gradients]\n",
            "\u001b[31mNameError\u001b[39m: name 'sigmoid_gradients' is not defined"
          ]
        }
      ],
      "source": [
        "# TODO: Compute gradients through ReLU network\n",
        "relu_gradients = None\n",
        "\n",
        "# Compare all activation functions\n",
        "if sigmoid_gradients and tanh_gradients and relu_gradients:\n",
        "    sigmoid_norms = [torch.norm(g).item() for g in sigmoid_gradients]\n",
        "    tanh_norms = [torch.norm(g).item() for g in tanh_gradients]\n",
        "    relu_norms = [torch.norm(g).item() for g in relu_gradients]\n",
        "\n",
        "    plt.figure(figsize=(12, 5))\n",
        "    x = range(len(sigmoid_norms))\n",
        "    plt.plot(x, sigmoid_norms, 'r-', label='Sigmoid', marker='o')\n",
        "    plt.plot(x, tanh_norms, 'b-', label='Tanh', marker='s')\n",
        "    plt.plot(x, relu_norms, 'g-', label='ReLU', marker='^')\n",
        "    plt.xlabel('Layer Index (deeper →)')\n",
        "    plt.ylabel('Gradient Norm (log scale)')\n",
        "    plt.title('Gradient Flow Comparison: Different Activation Functions')\n",
        "    plt.yscale('log')\n",
        "    plt.legend()\n",
        "    plt.grid(True, alpha=0.3)\n",
        "    plt.show()\n",
        "\n",
        "    # Calculate gradient preservation ratios\n",
        "    for name, grads in [(\"Sigmoid\", sigmoid_norms), (\"Tanh\", tanh_norms), (\"ReLU\", relu_norms)]:\n",
        "        ratio = grads[-1] / grads[0] if grads[0] > 0 else 0\n",
        "        print(f\"{name} gradient preservation ratio: {ratio:.6f}\")"
      ]
    },
    {
      "cell_type": "code",
      "execution_count": null,
      "metadata": {
        "id": "FWVctvNG9BuP"
      },
      "outputs": [],
      "source": [
        "# TODO: Create a network with Batch Normalization\n",
        "# Add BatchNorm1d layers after Linear layers (before activation)\n",
        "batchnorm_network = None"
      ]
    }
  ],
  "metadata": {
    "kernelspec": {
      "display_name": "Python 3",
      "name": "python3"
    },
    "language_info": {
      "codemirror_mode": {
        "name": "ipython",
        "version": 3
      },
      "file_extension": ".py",
      "mimetype": "text/x-python",
      "name": "python",
      "nbconvert_exporter": "python",
      "pygments_lexer": "ipython3",
      "version": "3.13.6"
    },
    "colab": {
      "provenance": [],
      "gpuType": "T4"
    },
    "accelerator": "GPU"
  },
  "nbformat": 4,
  "nbformat_minor": 0
}