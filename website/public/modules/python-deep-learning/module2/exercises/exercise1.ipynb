{
  "cells": [
    {
      "cell_type": "markdown",
      "metadata": {
        "id": "uvMeTF1wpbaJ"
      },
      "source": [
        "# Module 2 - Exercise 1: Autograd Exploration\n",
        "\n",
        "## Learning Objectives\n",
        "- Master PyTorch's automatic differentiation system\n",
        "- Understand computational graphs and gradient flow\n",
        "- Practice with multivariable gradients and chain rule\n",
        "- Explore gradient context management\n",
        "- Implement higher-order derivatives\n",
        "\n",
        "## Prerequisites\n",
        "- Completion of Module 1 exercises\n",
        "- Understanding of calculus derivatives\n",
        "- Familiarity with chain rule"
      ]
    },
    {
      "cell_type": "markdown",
      "metadata": {
        "id": "ME3aWCmQpbaM"
      },
      "source": [
        "## Setup and Test Repository\n",
        "\n",
        "First, let's clone the test repository and set up our environment for step-by-step validation."
      ]
    },
    {
      "cell_type": "code",
      "execution_count": 2,
      "metadata": {
        "id": "S1sNezehpbaM",
        "outputId": "1bbb7b32-88c1-4ac7-f746-0d38c05d1561",
        "colab": {
          "base_uri": "https://localhost:8080/"
        }
      },
      "outputs": [
        {
          "output_type": "stream",
          "name": "stdout",
          "text": [
            "Test framework setup complete!\n"
          ]
        }
      ],
      "source": [
        "# @title 默认标题文本\n",
        "# Clone the test repository\n",
        "!git clone https://github.com/racousin/data_science_practice.git /tmp/tests 2>/dev/null || true\n",
        "\n",
        "# Import required modules\n",
        "import sys\n",
        "sys.path.append('/tmp/tests/tests/python_deep_learning')\n",
        "\n",
        "# Import the improved test utilities\n",
        "from test_utils import NotebookTestRunner, create_inline_test\n",
        "from module2.test_exercise1 import Exercise1Validator, EXERCISE1_SECTIONS\n",
        "\n",
        "# Create test runner and validator\n",
        "test_runner = NotebookTestRunner(\"module2\", 1)\n",
        "validator = Exercise1Validator()\n",
        "\n",
        "print(\"Test framework setup complete!\")"
      ]
    },
    {
      "cell_type": "markdown",
      "metadata": {
        "id": "p-HCptjFpbaN"
      },
      "source": [
        "## Environment Setup"
      ]
    },
    {
      "cell_type": "code",
      "execution_count": 17,
      "metadata": {
        "id": "6pgY_RiOpbaN",
        "outputId": "6b3f608a-fce7-4f3e-9900-b8d8f1d61b6b",
        "colab": {
          "base_uri": "https://localhost:8080/"
        }
      },
      "outputs": [
        {
          "output_type": "stream",
          "name": "stdout",
          "text": [
            "PyTorch version: 2.8.0+cu126\n",
            "CUDA available: False\n"
          ]
        }
      ],
      "source": [
        "import torch\n",
        "import numpy as np\n",
        "import matplotlib.pyplot as plt\n",
        "\n",
        "# Print PyTorch version\n",
        "print(f\"PyTorch version: {torch.__version__}\")\n",
        "print(f\"CUDA available: {torch.cuda.is_available()}\")\n",
        "\n",
        "# Set random seeds for reproducibility\n",
        "torch.manual_seed(42)\n",
        "np.random.seed(42)"
      ]
    },
    {
      "cell_type": "markdown",
      "metadata": {
        "id": "GQTSNmG_pbaO"
      },
      "source": [
        "## Section 1: Basic Autograd Operations\n",
        "\n",
        "Learn the fundamentals of automatic differentiation with simple scalar functions."
      ]
    },
    {
      "cell_type": "code",
      "execution_count": 18,
      "metadata": {
        "id": "77fT9LmYpbaO",
        "outputId": "3a3673bd-338d-4d9c-de68-646ae31b6bb3",
        "colab": {
          "base_uri": "https://localhost:8080/"
        }
      },
      "outputs": [
        {
          "output_type": "stream",
          "name": "stdout",
          "text": [
            "x = 2.0\n",
            "y = 11.0\n",
            "x.requires_grad: True\n",
            "y.requires_grad: True\n"
          ]
        }
      ],
      "source": [
        "# TODO: Create a tensor that requires gradients and compute a simple function\n",
        "# Create x = 2.0 with requires_grad=True\n",
        "x = torch.tensor(2.0, requires_grad=True)\n",
        "\n",
        "# TODO: Compute y = x^2 + 3*x + 1\n",
        "y = x**2 + 3*x + 1\n",
        "\n",
        "print(f\"x = {x}\")\n",
        "print(f\"y = {y}\")\n",
        "print(f\"x.requires_grad: {x.requires_grad}\")\n",
        "print(f\"y.requires_grad: {y.requires_grad}\")"
      ]
    },
    {
      "cell_type": "code",
      "execution_count": 19,
      "metadata": {
        "id": "hh8tjkvzpbaO",
        "outputId": "6e3980d4-562b-4491-af7f-30bd57e56a48",
        "colab": {
          "base_uri": "https://localhost:8080/"
        }
      },
      "outputs": [
        {
          "output_type": "stream",
          "name": "stdout",
          "text": [
            "dy/dx = None\n",
            "Expected: dy/dx = 2x + 3 = 2*2 + 3 = 7\n"
          ]
        }
      ],
      "source": [
        "# TODO: Compute gradients using backward()\n",
        "# Call y.backward() to compute gradients\n",
        "\n",
        "print(f\"dy/dx = {x.grad}\")\n",
        "print(f\"Expected: dy/dx = 2x + 3 = 2*2 + 3 = 7\")"
      ]
    },
    {
      "cell_type": "code",
      "execution_count": null,
      "metadata": {
        "id": "O4Gn53zgpbaO"
      },
      "outputs": [],
      "source": [
        "# Test Section 1: Basic Autograd Operations\n",
        "section_tests = [(getattr(validator, name), desc) for name, desc in EXERCISE1_SECTIONS[\"Section 1: Basic Autograd Operations\"]]\n",
        "test_runner.test_section(\"Section 1: Basic Autograd Operations\", validator, section_tests, locals())"
      ]
    },
    {
      "cell_type": "markdown",
      "metadata": {
        "id": "UQi_AoJ7pbaP"
      },
      "source": [
        "## Section 2: Multivariable Gradients\n",
        "\n",
        "Explore gradients with functions of multiple variables."
      ]
    },
    {
      "cell_type": "code",
      "execution_count": 32,
      "metadata": {
        "id": "D3-JE3n2pbaP",
        "outputId": "7fa28b47-2449-48ef-b7d0-9535d0672bd5",
        "colab": {
          "base_uri": "https://localhost:8080/"
        }
      },
      "outputs": [
        {
          "output_type": "stream",
          "name": "stdout",
          "text": [
            "x1 = 1.0, x2 = 2.0\n",
            "z = 11.0\n"
          ]
        }
      ],
      "source": [
        "# TODO: Create two variables with gradients enabled x1 = 1.0, x2 = 2.0\n",
        "x1 = torch.tensor(1.0, requires_grad=True)\n",
        "x2 = torch.tensor(2.0, requires_grad=True)\n",
        "\n",
        "# TODO: Compute z = x1^2 + x2^3 + x1*x2\n",
        "z = x1**2 + x2**3 + x1*x2\n",
        "\n",
        "print(f\"x1 = {x1}, x2 = {x2}\")\n",
        "print(f\"z = {z}\")"
      ]
    },
    {
      "cell_type": "code",
      "execution_count": 33,
      "metadata": {
        "id": "uNSy1lQOpbaP",
        "outputId": "ab06354a-4a0e-43ec-809d-fe62ba1d7ebc",
        "colab": {
          "base_uri": "https://localhost:8080/"
        }
      },
      "outputs": [
        {
          "output_type": "stream",
          "name": "stdout",
          "text": [
            "∂z/∂x1 = 4.0\n",
            "∂z/∂x2 = 13.0\n",
            "Expected: ∂z/∂x1 = 2*x1 + x2 = 2*1 + 2 = 4\n",
            "Expected: ∂z/∂x2 = 3*x2^2 + x1 = 3*4 + 1 = 13\n"
          ]
        }
      ],
      "source": [
        "# TODO: Compute gradients for multivariable function\n",
        "# Call z.backward() to compute partial derivatives\n",
        "z.backward()\n",
        "print(f\"∂z/∂x1 = {x1.grad if x1 is not None else None}\")\n",
        "print(f\"∂z/∂x2 = {x2.grad if x2 is not None else None}\")\n",
        "print(f\"Expected: ∂z/∂x1 = 2*x1 + x2 = 2*1 + 2 = 4\")\n",
        "print(f\"Expected: ∂z/∂x2 = 3*x2^2 + x1 = 3*4 + 1 = 13\")"
      ]
    },
    {
      "cell_type": "code",
      "execution_count": null,
      "metadata": {
        "id": "7Hb1Bg2mpbaP"
      },
      "outputs": [],
      "source": [
        "# Test Section 2: Multivariable Gradients\n",
        "section_tests = [(getattr(validator, name), desc) for name, desc in EXERCISE1_SECTIONS[\"Section 2: Multivariable Gradients\"]]\n",
        "test_runner.test_section(\"Section 2: Multivariable Gradients\", validator, section_tests, locals())"
      ]
    },
    {
      "cell_type": "markdown",
      "metadata": {
        "id": "R_FM-stDpbaP"
      },
      "source": [
        "## Section 3: Vector and Matrix Gradients\n",
        "\n",
        "Work with gradients of vector and matrix operations."
      ]
    },
    {
      "cell_type": "code",
      "execution_count": 34,
      "metadata": {
        "id": "aVs8VIJypbaP",
        "outputId": "e72adc80-6ca9-41c3-8c62-d91d6930995b",
        "colab": {
          "base_uri": "https://localhost:8080/"
        }
      },
      "outputs": [
        {
          "output_type": "stream",
          "name": "stdout",
          "text": [
            "vec_x = tensor([1., 2., 3.], requires_grad=True)\n",
            "vec_sum = 14.0\n"
          ]
        }
      ],
      "source": [
        "# TODO: Create a vector [1.0, 2.0, 3.0] with gradients and compute a scalar loss\n",
        "vec_x = torch.tensor([1.0, 2.0, 3.0], requires_grad=True)\n",
        "\n",
        "# TODO: Compute sum of squares sum(vec_x**2)\n",
        "vec_sum = torch.sum(vec_x**2)\n",
        "\n",
        "print(f\"vec_x = {vec_x}\")\n",
        "print(f\"vec_sum = {vec_sum}\")"
      ]
    },
    {
      "cell_type": "code",
      "execution_count": 36,
      "metadata": {
        "id": "qHhvtj8CpbaQ",
        "outputId": "8b8da4c2-a5e4-468f-fd47-6bfc53304d55",
        "colab": {
          "base_uri": "https://localhost:8080/"
        }
      },
      "outputs": [
        {
          "output_type": "stream",
          "name": "stdout",
          "text": [
            "∇vec_sum = tensor([2., 4., 6.])\n",
            "Expected: gradient should be 2*vec_x = [2, 4, 6]\n"
          ]
        }
      ],
      "source": [
        "# TODO: Compute gradients for vector function\n",
        "# Call vec_sum.backward()\n",
        "vec_sum.backward()\n",
        "print(f\"∇vec_sum = {vec_x.grad}\")\n",
        "print(f\"Expected: gradient should be 2*vec_x = [2, 4, 6]\")"
      ]
    },
    {
      "cell_type": "code",
      "execution_count": null,
      "metadata": {
        "id": "66JMeylspbaQ"
      },
      "outputs": [],
      "source": [
        "# Test vector gradients (first part of Section 3)\n",
        "vec_tests = [(getattr(validator, name), desc) for name, desc in EXERCISE1_SECTIONS[\"Section 3: Vector and Matrix Gradients\"][:3]]\n",
        "test_runner.test_section(\"Section 3a: Vector Gradients\", validator, vec_tests, locals())"
      ]
    },
    {
      "cell_type": "code",
      "execution_count": 37,
      "metadata": {
        "id": "h8BbXj8vpbaQ",
        "outputId": "fc2a261d-bbde-4923-9287-8892f28cd3c8",
        "colab": {
          "base_uri": "https://localhost:8080/"
        }
      },
      "outputs": [
        {
          "output_type": "stream",
          "name": "stdout",
          "text": [
            "mat_A = \n",
            "tensor([[1., 2.],\n",
            "        [3., 4.]], requires_grad=True)\n",
            "mat_sum = 30.0\n"
          ]
        }
      ],
      "source": [
        "# TODO: Create a matrix [[1.0, 2.0], [3.0, 4.0]] and compute gradients\n",
        "mat_A = torch.tensor([[1.0, 2.0], [3.0, 4.0]], requires_grad=True)\n",
        "\n",
        "# TODO: Compute mat_sum = sum of squares of all elements\n",
        "mat_sum = torch.sum(mat_A**2)  # torch.sum(mat_A**2)\n",
        "\n",
        "print(f\"mat_A = \\n{mat_A}\")\n",
        "print(f\"mat_sum = {mat_sum}\")"
      ]
    },
    {
      "cell_type": "code",
      "execution_count": 39,
      "metadata": {
        "id": "CiMxHW0BpbaQ",
        "outputId": "09b5d29d-6bcd-4c57-8fd3-dab317ea726a",
        "colab": {
          "base_uri": "https://localhost:8080/"
        }
      },
      "outputs": [
        {
          "output_type": "stream",
          "name": "stdout",
          "text": [
            "∇mat_A = \n",
            "tensor([[2., 4.],\n",
            "        [6., 8.]])\n",
            "Expected: gradient should be 2*mat_A\n"
          ]
        }
      ],
      "source": [
        "# TODO: Compute matrix gradients\n",
        "# Call mat_sum.backward()\n",
        "mat_sum.backward()\n",
        "print(f\"∇mat_A = \\n{mat_A.grad}\")\n",
        "print(f\"Expected: gradient should be 2*mat_A\")"
      ]
    },
    {
      "cell_type": "code",
      "execution_count": null,
      "metadata": {
        "id": "yIQPYlZ3pbaQ"
      },
      "outputs": [],
      "source": [
        "# Test matrix gradients (second part of Section 3)\n",
        "mat_tests = [(getattr(validator, name), desc) for name, desc in EXERCISE1_SECTIONS[\"Section 3: Vector and Matrix Gradients\"][3:]]\n",
        "test_runner.test_section(\"Section 3b: Matrix Gradients\", validator, mat_tests, locals())"
      ]
    },
    {
      "cell_type": "markdown",
      "metadata": {
        "id": "_6hKc7XGpbaQ"
      },
      "source": [
        "## Section 4: Computational Graph and Chain Rule\n",
        "\n",
        "Understand how PyTorch builds and traverses computational graphs."
      ]
    },
    {
      "cell_type": "code",
      "execution_count": 41,
      "metadata": {
        "id": "qbDvljOLpbaQ",
        "outputId": "5b1e6331-396f-4588-b573-8d952263576c",
        "colab": {
          "base_uri": "https://localhost:8080/"
        }
      },
      "outputs": [
        {
          "output_type": "stream",
          "name": "stdout",
          "text": [
            "Collecting torchviz\n",
            "  Downloading torchviz-0.0.3-py3-none-any.whl.metadata (2.1 kB)\n",
            "Requirement already satisfied: torch in /usr/local/lib/python3.12/dist-packages (from torchviz) (2.8.0+cu126)\n",
            "Requirement already satisfied: graphviz in /usr/local/lib/python3.12/dist-packages (from torchviz) (0.21)\n",
            "Requirement already satisfied: filelock in /usr/local/lib/python3.12/dist-packages (from torch->torchviz) (3.19.1)\n",
            "Requirement already satisfied: typing-extensions>=4.10.0 in /usr/local/lib/python3.12/dist-packages (from torch->torchviz) (4.15.0)\n",
            "Requirement already satisfied: setuptools in /usr/local/lib/python3.12/dist-packages (from torch->torchviz) (75.2.0)\n",
            "Requirement already satisfied: sympy>=1.13.3 in /usr/local/lib/python3.12/dist-packages (from torch->torchviz) (1.13.3)\n",
            "Requirement already satisfied: networkx in /usr/local/lib/python3.12/dist-packages (from torch->torchviz) (3.5)\n",
            "Requirement already satisfied: jinja2 in /usr/local/lib/python3.12/dist-packages (from torch->torchviz) (3.1.6)\n",
            "Requirement already satisfied: fsspec in /usr/local/lib/python3.12/dist-packages (from torch->torchviz) (2025.3.0)\n",
            "Requirement already satisfied: nvidia-cuda-nvrtc-cu12==12.6.77 in /usr/local/lib/python3.12/dist-packages (from torch->torchviz) (12.6.77)\n",
            "Requirement already satisfied: nvidia-cuda-runtime-cu12==12.6.77 in /usr/local/lib/python3.12/dist-packages (from torch->torchviz) (12.6.77)\n",
            "Requirement already satisfied: nvidia-cuda-cupti-cu12==12.6.80 in /usr/local/lib/python3.12/dist-packages (from torch->torchviz) (12.6.80)\n",
            "Requirement already satisfied: nvidia-cudnn-cu12==9.10.2.21 in /usr/local/lib/python3.12/dist-packages (from torch->torchviz) (9.10.2.21)\n",
            "Requirement already satisfied: nvidia-cublas-cu12==12.6.4.1 in /usr/local/lib/python3.12/dist-packages (from torch->torchviz) (12.6.4.1)\n",
            "Requirement already satisfied: nvidia-cufft-cu12==11.3.0.4 in /usr/local/lib/python3.12/dist-packages (from torch->torchviz) (11.3.0.4)\n",
            "Requirement already satisfied: nvidia-curand-cu12==10.3.7.77 in /usr/local/lib/python3.12/dist-packages (from torch->torchviz) (10.3.7.77)\n",
            "Requirement already satisfied: nvidia-cusolver-cu12==11.7.1.2 in /usr/local/lib/python3.12/dist-packages (from torch->torchviz) (11.7.1.2)\n",
            "Requirement already satisfied: nvidia-cusparse-cu12==12.5.4.2 in /usr/local/lib/python3.12/dist-packages (from torch->torchviz) (12.5.4.2)\n",
            "Requirement already satisfied: nvidia-cusparselt-cu12==0.7.1 in /usr/local/lib/python3.12/dist-packages (from torch->torchviz) (0.7.1)\n",
            "Requirement already satisfied: nvidia-nccl-cu12==2.27.3 in /usr/local/lib/python3.12/dist-packages (from torch->torchviz) (2.27.3)\n",
            "Requirement already satisfied: nvidia-nvtx-cu12==12.6.77 in /usr/local/lib/python3.12/dist-packages (from torch->torchviz) (12.6.77)\n",
            "Requirement already satisfied: nvidia-nvjitlink-cu12==12.6.85 in /usr/local/lib/python3.12/dist-packages (from torch->torchviz) (12.6.85)\n",
            "Requirement already satisfied: nvidia-cufile-cu12==1.11.1.6 in /usr/local/lib/python3.12/dist-packages (from torch->torchviz) (1.11.1.6)\n",
            "Requirement already satisfied: triton==3.4.0 in /usr/local/lib/python3.12/dist-packages (from torch->torchviz) (3.4.0)\n",
            "Requirement already satisfied: mpmath<1.4,>=1.1.0 in /usr/local/lib/python3.12/dist-packages (from sympy>=1.13.3->torch->torchviz) (1.3.0)\n",
            "Requirement already satisfied: MarkupSafe>=2.0 in /usr/local/lib/python3.12/dist-packages (from jinja2->torch->torchviz) (3.0.2)\n",
            "Downloading torchviz-0.0.3-py3-none-any.whl (5.7 kB)\n",
            "Installing collected packages: torchviz\n",
            "Successfully installed torchviz-0.0.3\n"
          ]
        }
      ],
      "source": [
        "!pip install torchviz # uncomment if needed"
      ]
    },
    {
      "cell_type": "code",
      "execution_count": 44,
      "metadata": {
        "id": "-O-58NnTpbaQ",
        "outputId": "f036e43b-455f-4b4b-8513-86feff86c717",
        "colab": {
          "base_uri": "https://localhost:8080/",
          "height": 89
        }
      },
      "outputs": [
        {
          "output_type": "stream",
          "name": "stdout",
          "text": [
            "x = 2.0\n"
          ]
        },
        {
          "output_type": "execute_result",
          "data": {
            "image/svg+xml": "<?xml version=\"1.0\" encoding=\"UTF-8\" standalone=\"no\"?>\n<!DOCTYPE svg PUBLIC \"-//W3C//DTD SVG 1.1//EN\"\n \"http://www.w3.org/Graphics/SVG/1.1/DTD/svg11.dtd\">\n<!-- Generated by graphviz version 2.43.0 (0)\n -->\n<!-- Title: %3 Pages: 1 -->\n<svg width=\"62pt\" height=\"38pt\"\n viewBox=\"0.00 0.00 62.00 38.00\" xmlns=\"http://www.w3.org/2000/svg\" xmlns:xlink=\"http://www.w3.org/1999/xlink\">\n<g id=\"graph0\" class=\"graph\" transform=\"scale(1 1) rotate(0) translate(4 34)\">\n<title>%3</title>\n<polygon fill=\"white\" stroke=\"transparent\" points=\"-4,4 -4,-34 58,-34 58,4 -4,4\"/>\n<!-- 133782420490992 -->\n<g id=\"node1\" class=\"node\">\n<title>133782420490992</title>\n<polygon fill=\"#caff70\" stroke=\"black\" points=\"54,-30 0,-30 0,0 54,0 54,-30\"/>\n<text text-anchor=\"middle\" x=\"27\" y=\"-18\" font-family=\"monospace\" font-size=\"10.00\">x</text>\n<text text-anchor=\"middle\" x=\"27\" y=\"-7\" font-family=\"monospace\" font-size=\"10.00\"> ()</text>\n</g>\n</g>\n</svg>\n",
            "text/plain": [
              "<graphviz.graphs.Digraph at 0x79aca5b9b170>"
            ]
          },
          "metadata": {},
          "execution_count": 44
        }
      ],
      "source": [
        "from torchviz import make_dot # display with\n",
        "# TODO: Build a computational graph step by step\n",
        "x = torch.tensor(2.0,requires_grad=True)  # torch.tensor(2.0, requires_grad=True)\n",
        "print(f\"x = {x}\")\n",
        "dot = make_dot(x, params={\"x\": x})\n",
        "dot"
      ]
    },
    {
      "cell_type": "code",
      "execution_count": 45,
      "metadata": {
        "id": "dVEb978opbaQ",
        "outputId": "9e728775-4f08-45fd-b8c3-50bfe373a788",
        "colab": {
          "base_uri": "https://localhost:8080/",
          "height": 325
        }
      },
      "outputs": [
        {
          "output_type": "stream",
          "name": "stdout",
          "text": [
            "y = x^2 = 4.0\n"
          ]
        },
        {
          "output_type": "execute_result",
          "data": {
            "image/svg+xml": "<?xml version=\"1.0\" encoding=\"UTF-8\" standalone=\"no\"?>\n<!DOCTYPE svg PUBLIC \"-//W3C//DTD SVG 1.1//EN\"\n \"http://www.w3.org/Graphics/SVG/1.1/DTD/svg11.dtd\">\n<!-- Generated by graphviz version 2.43.0 (0)\n -->\n<!-- Title: %3 Pages: 1 -->\n<svg width=\"109pt\" height=\"215pt\"\n viewBox=\"0.00 0.00 109.00 215.00\" xmlns=\"http://www.w3.org/2000/svg\" xmlns:xlink=\"http://www.w3.org/1999/xlink\">\n<g id=\"graph0\" class=\"graph\" transform=\"scale(1 1) rotate(0) translate(4 211)\">\n<title>%3</title>\n<polygon fill=\"white\" stroke=\"transparent\" points=\"-4,4 -4,-211 105,-211 105,4 -4,4\"/>\n<!-- 133782419892864 -->\n<g id=\"node1\" class=\"node\">\n<title>133782419892864</title>\n<polygon fill=\"#caff70\" stroke=\"black\" points=\"77.5,-31 23.5,-31 23.5,0 77.5,0 77.5,-31\"/>\n<text text-anchor=\"middle\" x=\"50.5\" y=\"-7\" font-family=\"monospace\" font-size=\"10.00\"> ()</text>\n</g>\n<!-- 133782421738000 -->\n<g id=\"node2\" class=\"node\">\n<title>133782421738000</title>\n<polygon fill=\"lightgrey\" stroke=\"black\" points=\"95,-86 6,-86 6,-67 95,-67 95,-86\"/>\n<text text-anchor=\"middle\" x=\"50.5\" y=\"-74\" font-family=\"monospace\" font-size=\"10.00\">PowBackward0</text>\n</g>\n<!-- 133782421738000&#45;&gt;133782419892864 -->\n<g id=\"edge3\" class=\"edge\">\n<title>133782421738000&#45;&gt;133782419892864</title>\n<path fill=\"none\" stroke=\"black\" d=\"M50.5,-66.79C50.5,-60.07 50.5,-50.4 50.5,-41.34\"/>\n<polygon fill=\"black\" stroke=\"black\" points=\"54,-41.19 50.5,-31.19 47,-41.19 54,-41.19\"/>\n</g>\n<!-- 133782421739200 -->\n<g id=\"node3\" class=\"node\">\n<title>133782421739200</title>\n<polygon fill=\"lightgrey\" stroke=\"black\" points=\"101,-141 0,-141 0,-122 101,-122 101,-141\"/>\n<text text-anchor=\"middle\" x=\"50.5\" y=\"-129\" font-family=\"monospace\" font-size=\"10.00\">AccumulateGrad</text>\n</g>\n<!-- 133782421739200&#45;&gt;133782421738000 -->\n<g id=\"edge1\" class=\"edge\">\n<title>133782421739200&#45;&gt;133782421738000</title>\n<path fill=\"none\" stroke=\"black\" d=\"M50.5,-121.75C50.5,-114.8 50.5,-104.85 50.5,-96.13\"/>\n<polygon fill=\"black\" stroke=\"black\" points=\"54,-96.09 50.5,-86.09 47,-96.09 54,-96.09\"/>\n</g>\n<!-- 133782420490992 -->\n<g id=\"node4\" class=\"node\">\n<title>133782420490992</title>\n<polygon fill=\"lightblue\" stroke=\"black\" points=\"77.5,-207 23.5,-207 23.5,-177 77.5,-177 77.5,-207\"/>\n<text text-anchor=\"middle\" x=\"50.5\" y=\"-195\" font-family=\"monospace\" font-size=\"10.00\">x</text>\n<text text-anchor=\"middle\" x=\"50.5\" y=\"-184\" font-family=\"monospace\" font-size=\"10.00\"> ()</text>\n</g>\n<!-- 133782420490992&#45;&gt;133782421739200 -->\n<g id=\"edge2\" class=\"edge\">\n<title>133782420490992&#45;&gt;133782421739200</title>\n<path fill=\"none\" stroke=\"black\" d=\"M50.5,-176.84C50.5,-169.21 50.5,-159.7 50.5,-151.45\"/>\n<polygon fill=\"black\" stroke=\"black\" points=\"54,-151.27 50.5,-141.27 47,-151.27 54,-151.27\"/>\n</g>\n</g>\n</svg>\n",
            "text/plain": [
              "<graphviz.graphs.Digraph at 0x79aca5b9a6f0>"
            ]
          },
          "metadata": {},
          "execution_count": 45
        }
      ],
      "source": [
        "# TODO: Build computation step by step\n",
        "y = x**2  # xˆ2\n",
        "print(f\"y = x^2 = {y}\")\n",
        "dot = make_dot(y, params={\"x\": x})\n",
        "dot"
      ]
    },
    {
      "cell_type": "code",
      "execution_count": 46,
      "metadata": {
        "id": "YJgWtAbJpbaQ",
        "outputId": "334b5a53-0ccb-4ce4-97d2-45827f1d3990",
        "colab": {
          "base_uri": "https://localhost:8080/",
          "height": 471
        }
      },
      "outputs": [
        {
          "output_type": "stream",
          "name": "stdout",
          "text": [
            "z = 3y + 1 = 13.0\n"
          ]
        },
        {
          "output_type": "execute_result",
          "data": {
            "image/svg+xml": "<?xml version=\"1.0\" encoding=\"UTF-8\" standalone=\"no\"?>\n<!DOCTYPE svg PUBLIC \"-//W3C//DTD SVG 1.1//EN\"\n \"http://www.w3.org/Graphics/SVG/1.1/DTD/svg11.dtd\">\n<!-- Generated by graphviz version 2.43.0 (0)\n -->\n<!-- Title: %3 Pages: 1 -->\n<svg width=\"109pt\" height=\"325pt\"\n viewBox=\"0.00 0.00 109.00 325.00\" xmlns=\"http://www.w3.org/2000/svg\" xmlns:xlink=\"http://www.w3.org/1999/xlink\">\n<g id=\"graph0\" class=\"graph\" transform=\"scale(1 1) rotate(0) translate(4 321)\">\n<title>%3</title>\n<polygon fill=\"white\" stroke=\"transparent\" points=\"-4,4 -4,-321 105,-321 105,4 -4,4\"/>\n<!-- 133782419411248 -->\n<g id=\"node1\" class=\"node\">\n<title>133782419411248</title>\n<polygon fill=\"#caff70\" stroke=\"black\" points=\"77.5,-31 23.5,-31 23.5,0 77.5,0 77.5,-31\"/>\n<text text-anchor=\"middle\" x=\"50.5\" y=\"-7\" font-family=\"monospace\" font-size=\"10.00\"> ()</text>\n</g>\n<!-- 133782421746256 -->\n<g id=\"node2\" class=\"node\">\n<title>133782421746256</title>\n<polygon fill=\"lightgrey\" stroke=\"black\" points=\"95,-86 6,-86 6,-67 95,-67 95,-86\"/>\n<text text-anchor=\"middle\" x=\"50.5\" y=\"-74\" font-family=\"monospace\" font-size=\"10.00\">AddBackward0</text>\n</g>\n<!-- 133782421746256&#45;&gt;133782419411248 -->\n<g id=\"edge5\" class=\"edge\">\n<title>133782421746256&#45;&gt;133782419411248</title>\n<path fill=\"none\" stroke=\"black\" d=\"M50.5,-66.79C50.5,-60.07 50.5,-50.4 50.5,-41.34\"/>\n<polygon fill=\"black\" stroke=\"black\" points=\"54,-41.19 50.5,-31.19 47,-41.19 54,-41.19\"/>\n</g>\n<!-- 133782421736464 -->\n<g id=\"node3\" class=\"node\">\n<title>133782421736464</title>\n<polygon fill=\"lightgrey\" stroke=\"black\" points=\"95,-141 6,-141 6,-122 95,-122 95,-141\"/>\n<text text-anchor=\"middle\" x=\"50.5\" y=\"-129\" font-family=\"monospace\" font-size=\"10.00\">MulBackward0</text>\n</g>\n<!-- 133782421736464&#45;&gt;133782421746256 -->\n<g id=\"edge1\" class=\"edge\">\n<title>133782421736464&#45;&gt;133782421746256</title>\n<path fill=\"none\" stroke=\"black\" d=\"M50.5,-121.75C50.5,-114.8 50.5,-104.85 50.5,-96.13\"/>\n<polygon fill=\"black\" stroke=\"black\" points=\"54,-96.09 50.5,-86.09 47,-96.09 54,-96.09\"/>\n</g>\n<!-- 133782421738000 -->\n<g id=\"node4\" class=\"node\">\n<title>133782421738000</title>\n<polygon fill=\"lightgrey\" stroke=\"black\" points=\"95,-196 6,-196 6,-177 95,-177 95,-196\"/>\n<text text-anchor=\"middle\" x=\"50.5\" y=\"-184\" font-family=\"monospace\" font-size=\"10.00\">PowBackward0</text>\n</g>\n<!-- 133782421738000&#45;&gt;133782421736464 -->\n<g id=\"edge2\" class=\"edge\">\n<title>133782421738000&#45;&gt;133782421736464</title>\n<path fill=\"none\" stroke=\"black\" d=\"M50.5,-176.75C50.5,-169.8 50.5,-159.85 50.5,-151.13\"/>\n<polygon fill=\"black\" stroke=\"black\" points=\"54,-151.09 50.5,-141.09 47,-151.09 54,-151.09\"/>\n</g>\n<!-- 133782421739200 -->\n<g id=\"node5\" class=\"node\">\n<title>133782421739200</title>\n<polygon fill=\"lightgrey\" stroke=\"black\" points=\"101,-251 0,-251 0,-232 101,-232 101,-251\"/>\n<text text-anchor=\"middle\" x=\"50.5\" y=\"-239\" font-family=\"monospace\" font-size=\"10.00\">AccumulateGrad</text>\n</g>\n<!-- 133782421739200&#45;&gt;133782421738000 -->\n<g id=\"edge3\" class=\"edge\">\n<title>133782421739200&#45;&gt;133782421738000</title>\n<path fill=\"none\" stroke=\"black\" d=\"M50.5,-231.75C50.5,-224.8 50.5,-214.85 50.5,-206.13\"/>\n<polygon fill=\"black\" stroke=\"black\" points=\"54,-206.09 50.5,-196.09 47,-206.09 54,-206.09\"/>\n</g>\n<!-- 133782420490992 -->\n<g id=\"node6\" class=\"node\">\n<title>133782420490992</title>\n<polygon fill=\"lightblue\" stroke=\"black\" points=\"77.5,-317 23.5,-317 23.5,-287 77.5,-287 77.5,-317\"/>\n<text text-anchor=\"middle\" x=\"50.5\" y=\"-305\" font-family=\"monospace\" font-size=\"10.00\">x</text>\n<text text-anchor=\"middle\" x=\"50.5\" y=\"-294\" font-family=\"monospace\" font-size=\"10.00\"> ()</text>\n</g>\n<!-- 133782420490992&#45;&gt;133782421739200 -->\n<g id=\"edge4\" class=\"edge\">\n<title>133782420490992&#45;&gt;133782421739200</title>\n<path fill=\"none\" stroke=\"black\" d=\"M50.5,-286.84C50.5,-279.21 50.5,-269.7 50.5,-261.45\"/>\n<polygon fill=\"black\" stroke=\"black\" points=\"54,-261.27 50.5,-251.27 47,-261.27 54,-261.27\"/>\n</g>\n</g>\n</svg>\n",
            "text/plain": [
              "<graphviz.graphs.Digraph at 0x79aca5b9be60>"
            ]
          },
          "metadata": {},
          "execution_count": 46
        }
      ],
      "source": [
        "z = 3*y+1  # 3y + 1\n",
        "print(f\"z = 3y + 1 = {z}\")\n",
        "dot = make_dot(z, params={\"x\": x})\n",
        "dot"
      ]
    },
    {
      "cell_type": "code",
      "execution_count": 47,
      "metadata": {
        "id": "7ScaFU_NpbaQ",
        "outputId": "9505639e-2d3c-4215-e5c7-6c2c99410a8f",
        "colab": {
          "base_uri": "https://localhost:8080/",
          "height": 545
        }
      },
      "outputs": [
        {
          "output_type": "stream",
          "name": "stdout",
          "text": [
            "w = z^2 = 169.0\n"
          ]
        },
        {
          "output_type": "execute_result",
          "data": {
            "image/svg+xml": "<?xml version=\"1.0\" encoding=\"UTF-8\" standalone=\"no\"?>\n<!DOCTYPE svg PUBLIC \"-//W3C//DTD SVG 1.1//EN\"\n \"http://www.w3.org/Graphics/SVG/1.1/DTD/svg11.dtd\">\n<!-- Generated by graphviz version 2.43.0 (0)\n -->\n<!-- Title: %3 Pages: 1 -->\n<svg width=\"109pt\" height=\"380pt\"\n viewBox=\"0.00 0.00 109.00 380.00\" xmlns=\"http://www.w3.org/2000/svg\" xmlns:xlink=\"http://www.w3.org/1999/xlink\">\n<g id=\"graph0\" class=\"graph\" transform=\"scale(1 1) rotate(0) translate(4 376)\">\n<title>%3</title>\n<polygon fill=\"white\" stroke=\"transparent\" points=\"-4,4 -4,-376 105,-376 105,4 -4,4\"/>\n<!-- 133782420494432 -->\n<g id=\"node1\" class=\"node\">\n<title>133782420494432</title>\n<polygon fill=\"#caff70\" stroke=\"black\" points=\"77.5,-31 23.5,-31 23.5,0 77.5,0 77.5,-31\"/>\n<text text-anchor=\"middle\" x=\"50.5\" y=\"-7\" font-family=\"monospace\" font-size=\"10.00\"> ()</text>\n</g>\n<!-- 133782421746784 -->\n<g id=\"node2\" class=\"node\">\n<title>133782421746784</title>\n<polygon fill=\"lightgrey\" stroke=\"black\" points=\"95,-86 6,-86 6,-67 95,-67 95,-86\"/>\n<text text-anchor=\"middle\" x=\"50.5\" y=\"-74\" font-family=\"monospace\" font-size=\"10.00\">PowBackward0</text>\n</g>\n<!-- 133782421746784&#45;&gt;133782420494432 -->\n<g id=\"edge6\" class=\"edge\">\n<title>133782421746784&#45;&gt;133782420494432</title>\n<path fill=\"none\" stroke=\"black\" d=\"M50.5,-66.79C50.5,-60.07 50.5,-50.4 50.5,-41.34\"/>\n<polygon fill=\"black\" stroke=\"black\" points=\"54,-41.19 50.5,-31.19 47,-41.19 54,-41.19\"/>\n</g>\n<!-- 133782421746256 -->\n<g id=\"node3\" class=\"node\">\n<title>133782421746256</title>\n<polygon fill=\"lightgrey\" stroke=\"black\" points=\"95,-141 6,-141 6,-122 95,-122 95,-141\"/>\n<text text-anchor=\"middle\" x=\"50.5\" y=\"-129\" font-family=\"monospace\" font-size=\"10.00\">AddBackward0</text>\n</g>\n<!-- 133782421746256&#45;&gt;133782421746784 -->\n<g id=\"edge1\" class=\"edge\">\n<title>133782421746256&#45;&gt;133782421746784</title>\n<path fill=\"none\" stroke=\"black\" d=\"M50.5,-121.75C50.5,-114.8 50.5,-104.85 50.5,-96.13\"/>\n<polygon fill=\"black\" stroke=\"black\" points=\"54,-96.09 50.5,-86.09 47,-96.09 54,-96.09\"/>\n</g>\n<!-- 133782421736464 -->\n<g id=\"node4\" class=\"node\">\n<title>133782421736464</title>\n<polygon fill=\"lightgrey\" stroke=\"black\" points=\"95,-196 6,-196 6,-177 95,-177 95,-196\"/>\n<text text-anchor=\"middle\" x=\"50.5\" y=\"-184\" font-family=\"monospace\" font-size=\"10.00\">MulBackward0</text>\n</g>\n<!-- 133782421736464&#45;&gt;133782421746256 -->\n<g id=\"edge2\" class=\"edge\">\n<title>133782421736464&#45;&gt;133782421746256</title>\n<path fill=\"none\" stroke=\"black\" d=\"M50.5,-176.75C50.5,-169.8 50.5,-159.85 50.5,-151.13\"/>\n<polygon fill=\"black\" stroke=\"black\" points=\"54,-151.09 50.5,-141.09 47,-151.09 54,-151.09\"/>\n</g>\n<!-- 133782421738000 -->\n<g id=\"node5\" class=\"node\">\n<title>133782421738000</title>\n<polygon fill=\"lightgrey\" stroke=\"black\" points=\"95,-251 6,-251 6,-232 95,-232 95,-251\"/>\n<text text-anchor=\"middle\" x=\"50.5\" y=\"-239\" font-family=\"monospace\" font-size=\"10.00\">PowBackward0</text>\n</g>\n<!-- 133782421738000&#45;&gt;133782421736464 -->\n<g id=\"edge3\" class=\"edge\">\n<title>133782421738000&#45;&gt;133782421736464</title>\n<path fill=\"none\" stroke=\"black\" d=\"M50.5,-231.75C50.5,-224.8 50.5,-214.85 50.5,-206.13\"/>\n<polygon fill=\"black\" stroke=\"black\" points=\"54,-206.09 50.5,-196.09 47,-206.09 54,-206.09\"/>\n</g>\n<!-- 133782421739200 -->\n<g id=\"node6\" class=\"node\">\n<title>133782421739200</title>\n<polygon fill=\"lightgrey\" stroke=\"black\" points=\"101,-306 0,-306 0,-287 101,-287 101,-306\"/>\n<text text-anchor=\"middle\" x=\"50.5\" y=\"-294\" font-family=\"monospace\" font-size=\"10.00\">AccumulateGrad</text>\n</g>\n<!-- 133782421739200&#45;&gt;133782421738000 -->\n<g id=\"edge4\" class=\"edge\">\n<title>133782421739200&#45;&gt;133782421738000</title>\n<path fill=\"none\" stroke=\"black\" d=\"M50.5,-286.75C50.5,-279.8 50.5,-269.85 50.5,-261.13\"/>\n<polygon fill=\"black\" stroke=\"black\" points=\"54,-261.09 50.5,-251.09 47,-261.09 54,-261.09\"/>\n</g>\n<!-- 133782420490992 -->\n<g id=\"node7\" class=\"node\">\n<title>133782420490992</title>\n<polygon fill=\"lightblue\" stroke=\"black\" points=\"77.5,-372 23.5,-372 23.5,-342 77.5,-342 77.5,-372\"/>\n<text text-anchor=\"middle\" x=\"50.5\" y=\"-360\" font-family=\"monospace\" font-size=\"10.00\">x</text>\n<text text-anchor=\"middle\" x=\"50.5\" y=\"-349\" font-family=\"monospace\" font-size=\"10.00\"> ()</text>\n</g>\n<!-- 133782420490992&#45;&gt;133782421739200 -->\n<g id=\"edge5\" class=\"edge\">\n<title>133782420490992&#45;&gt;133782421739200</title>\n<path fill=\"none\" stroke=\"black\" d=\"M50.5,-341.84C50.5,-334.21 50.5,-324.7 50.5,-316.45\"/>\n<polygon fill=\"black\" stroke=\"black\" points=\"54,-316.27 50.5,-306.27 47,-316.27 54,-316.27\"/>\n</g>\n</g>\n</svg>\n",
            "text/plain": [
              "<graphviz.graphs.Digraph at 0x79aca5b99b20>"
            ]
          },
          "metadata": {},
          "execution_count": 47
        }
      ],
      "source": [
        "w = z**2  # z^2\n",
        "print(f\"w = z^2 = {w}\")\n",
        "dot = make_dot(w, params={\"x\": x})\n",
        "dot"
      ]
    },
    {
      "cell_type": "code",
      "execution_count": 49,
      "metadata": {
        "id": "u4oI4jt2pbaQ",
        "outputId": "7d1d9683-8bf7-4393-d616-7b51144e2535",
        "colab": {
          "base_uri": "https://localhost:8080/"
        }
      },
      "outputs": [
        {
          "output_type": "stream",
          "name": "stdout",
          "text": [
            "dw/dx = 312.0\n",
            "Chain rule: dw/dx = dw/dz * dz/dy * dy/dx\n",
            "dw/dz = 2*z = 2*13 = 26\n",
            "dz/dy = 3\n",
            "dy/dx = 2*x = 2*2 = 4\n",
            "Therefore: dw/dx = 26 * 3 * 4 = 312\n"
          ]
        }
      ],
      "source": [
        "# TODO: Compute gradients through the computational graph\n",
        "# Call graph_w.backward()\n",
        "graph_x = torch.tensor(2.0, requires_grad=True)\n",
        "graph_y = graph_x**2\n",
        "graph_z = 3*graph_y + 1\n",
        "graph_w = graph_z**2\n",
        "graph_w.backward()\n",
        "print(f\"dw/dx = {graph_x.grad}\")\n",
        "print(f\"Chain rule: dw/dx = dw/dz * dz/dy * dy/dx\")\n",
        "print(f\"dw/dz = 2*z = 2*13 = 26\")\n",
        "print(f\"dz/dy = 3\")\n",
        "print(f\"dy/dx = 2*x = 2*2 = 4\")\n",
        "print(f\"Therefore: dw/dx = 26 * 3 * 4 = 312\")"
      ]
    },
    {
      "cell_type": "markdown",
      "metadata": {
        "id": "aV7ADORHpbaQ"
      },
      "source": [
        "## Section 5: Gradient Context Management\n",
        "\n",
        "Learn to control when gradients are computed and stored."
      ]
    },
    {
      "cell_type": "code",
      "execution_count": 50,
      "metadata": {
        "id": "xUlUdUWSpbaQ",
        "outputId": "676d5090-7902-4d0e-b4ac-4493cabe2d85",
        "colab": {
          "base_uri": "https://localhost:8080/"
        }
      },
      "outputs": [
        {
          "output_type": "stream",
          "name": "stdout",
          "text": [
            "no_grad_result = 15.0\n",
            "requires_grad: False\n"
          ]
        }
      ],
      "source": [
        "# TODO: Use torch.no_grad() context\n",
        "x = torch.tensor(3.0, requires_grad=True)\n",
        "\n",
        "# TODO: Compute operation within no_grad context\n",
        "with torch.no_grad():\n",
        "    no_grad_result = x**2 + 2*x  # x**2 + 2*x\n",
        "\n",
        "print(f\"no_grad_result = {no_grad_result}\")\n",
        "print(f\"requires_grad: {no_grad_result.requires_grad}\")"
      ]
    },
    {
      "cell_type": "code",
      "execution_count": 51,
      "metadata": {
        "id": "loJyRb50pbaQ",
        "outputId": "2c390521-88f0-4b91-a90a-76f9130f920b",
        "colab": {
          "base_uri": "https://localhost:8080/"
        }
      },
      "outputs": [
        {
          "output_type": "stream",
          "name": "stdout",
          "text": [
            "Original y requires_grad: True\n",
            "Detached result requires_grad: False\n",
            "Values are equal: True\n"
          ]
        }
      ],
      "source": [
        "# TODO: Use .detach() to remove tensor from computational graph\n",
        "y = x**3 + x\n",
        "y_detached_result = y.detach()\n",
        "\n",
        "print(f\"Original y requires_grad: {y.requires_grad}\")\n",
        "print(f\"Detached result requires_grad: {y_detached_result.requires_grad}\")\n",
        "print(f\"Values are equal: {torch.equal(y, y_detached_result)}\")"
      ]
    },
    {
      "cell_type": "code",
      "execution_count": null,
      "metadata": {
        "id": "fGH8HnOppbaQ"
      },
      "outputs": [],
      "source": [
        "# Test Section 5: Gradient Context Management\n",
        "section_tests = [(getattr(validator, name), desc) for name, desc in EXERCISE1_SECTIONS[\"Section 5: Gradient Context Management\"]]\n",
        "test_runner.test_section(\"Section 5: Gradient Context Management\", validator, section_tests, locals())"
      ]
    },
    {
      "cell_type": "markdown",
      "metadata": {
        "id": "5JHvcK5gpbaR"
      },
      "source": [
        "## Section 6: Higher-Order Derivatives\n",
        "\n",
        "Compute second derivatives and higher-order gradients."
      ]
    },
    {
      "cell_type": "code",
      "execution_count": 53,
      "metadata": {
        "id": "YKO7BkofpbaR",
        "outputId": "3331785b-8de2-4b8e-c252-01f18c6a9e70",
        "colab": {
          "base_uri": "https://localhost:8080/"
        }
      },
      "outputs": [
        {
          "output_type": "stream",
          "name": "stdout",
          "text": [
            "f(x) = x^4, x = 2.0\n",
            "f'(x) = 4x^3 = 32.0\n",
            "f''(x) = 12x^2 = 48.0\n",
            "Expected: f''(2) = 12*4 = 48\n"
          ]
        }
      ],
      "source": [
        "# TODO: Compute second derivative\n",
        "x = torch.tensor(2.0, requires_grad=True)\n",
        "\n",
        "# TODO: Define function f(x) = x^4\n",
        "y = x**4\n",
        "\n",
        "# TODO: Compute first derivative\n",
        "# y.backward(create_graph=True)  # create_graph=True allows computing gradients of gradients\n",
        "# first_derivative = x.grad.clone()\n",
        "y.backward(create_graph=True)\n",
        "first_derivative = x.grad.clone()\n",
        "print(f\"f(x) = x^4, x = {x}\")\n",
        "\n",
        "# print(f\"f'(x) = 4x^3 = {first_derivative}\")\n",
        "print(f\"f'(x) = 4x^3 = {first_derivative}\")\n",
        "# TODO: Compute second derivative\n",
        "# x.grad.zero_()  # Clear first derivative\n",
        "# first_derivative.backward()\n",
        "x.grad.zero_()\n",
        "first_derivative.backward()\n",
        "second_derivative = x.grad  # x.grad\n",
        "\n",
        "print(f\"f''(x) = 12x^2 = {second_derivative}\")\n",
        "print(f\"Expected: f''(2) = 12*4 = 48\")"
      ]
    },
    {
      "cell_type": "code",
      "execution_count": null,
      "metadata": {
        "id": "8DBwyke3pbaR"
      },
      "outputs": [],
      "source": [
        "# Test Section 6: Higher-Order Derivatives\n",
        "section_tests = [(getattr(validator, name), desc) for name, desc in EXERCISE1_SECTIONS[\"Section 6: Higher-Order Derivatives\"]]\n",
        "test_runner.test_section(\"Section 6: Higher-Order Derivatives\", validator, section_tests, locals())"
      ]
    },
    {
      "cell_type": "markdown",
      "metadata": {
        "id": "X21pJxjLpbaR"
      },
      "source": [
        "## Section 7: Gradient Flow Visualization\n",
        "\n",
        "Visualize how gradients flow through computational graphs."
      ]
    },
    {
      "cell_type": "code",
      "execution_count": 54,
      "metadata": {
        "id": "IDgrROlzpbaR",
        "outputId": "25d76dbb-812e-4d91-92eb-289e6d2dcde6",
        "colab": {
          "base_uri": "https://localhost:8080/",
          "height": 543
        }
      },
      "outputs": [
        {
          "output_type": "display_data",
          "data": {
            "text/plain": [
              "<Figure size 1200x500 with 2 Axes>"
            ],
            "image/png": "[encoded data removed]"
          },
          "metadata": {}
        },
        {
          "output_type": "stream",
          "name": "stdout",
          "text": [
            "The gradient plot shows how the derivative changes across the input domain.\n",
            "Notice how the gradient reflects the slope of the original function.\n"
          ]
        }
      ],
      "source": [
        "# Create a more complex computational graph for visualization\n",
        "def create_complex_function(x):\n",
        "    \"\"\"Create a complex function for gradient flow analysis\"\"\"\n",
        "    a = x**2\n",
        "    b = torch.sin(a)\n",
        "    c = torch.exp(b)\n",
        "    d = torch.log(c + 1)\n",
        "    return d\n",
        "\n",
        "# Test with different input values\n",
        "x_values = torch.linspace(-2, 2, 100)\n",
        "gradients = []\n",
        "\n",
        "for x_val in x_values:\n",
        "    x = torch.tensor(x_val.item(), requires_grad=True)\n",
        "    y = create_complex_function(x)\n",
        "    y.backward()\n",
        "    gradients.append(x.grad.item())\n",
        "\n",
        "# Plot function and its gradient\n",
        "plt.figure(figsize=(12, 5))\n",
        "\n",
        "plt.subplot(1, 2, 1)\n",
        "with torch.no_grad():\n",
        "    y_values = [create_complex_function(x).item() for x in x_values]\n",
        "plt.plot(x_values.numpy(), y_values)\n",
        "plt.title('Function: log(exp(sin(x²)) + 1)')\n",
        "plt.xlabel('x')\n",
        "plt.ylabel('f(x)')\n",
        "plt.grid(True)\n",
        "\n",
        "plt.subplot(1, 2, 2)\n",
        "plt.plot(x_values.numpy(), gradients)\n",
        "plt.title(\"Function's Gradient\")\n",
        "plt.xlabel('x')\n",
        "plt.ylabel(\"f'(x)\")\n",
        "plt.grid(True)\n",
        "\n",
        "plt.tight_layout()\n",
        "plt.show()\n",
        "\n",
        "print(\"The gradient plot shows how the derivative changes across the input domain.\")\n",
        "print(\"Notice how the gradient reflects the slope of the original function.\")"
      ]
    }
  ],
  "metadata": {
    "kernelspec": {
      "display_name": "Python 3 (ipykernel)",
      "language": "python",
      "name": "python3"
    },
    "language_info": {
      "codemirror_mode": {
        "name": "ipython",
        "version": 3
      },
      "file_extension": ".py",
      "mimetype": "text/x-python",
      "name": "python",
      "nbconvert_exporter": "python",
      "pygments_lexer": "ipython3",
      "version": "3.13.6"
    },
    "colab": {
      "provenance": []
    }
  },
  "nbformat": 4,
  "nbformat_minor": 0
}